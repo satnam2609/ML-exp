{
  "nbformat": 4,
  "nbformat_minor": 0,
  "metadata": {
    "colab": {
      "provenance": []
    },
    "kernelspec": {
      "name": "python3",
      "display_name": "Python 3"
    },
    "language_info": {
      "name": "python"
    }
  },
  "cells": [
    {
      "cell_type": "code",
      "execution_count": null,
      "metadata": {
        "id": "r130QTsm5FzM",
        "colab": {
          "base_uri": "https://localhost:8080/",
          "height": 383
        },
        "outputId": "1a2f4a5c-4938-4bc8-e4a3-d6407837b8d7"
      },
      "outputs": [
        {
          "output_type": "error",
          "ename": "ModuleNotFoundError",
          "evalue": "No module named 'streamlit'",
          "traceback": [
            "\u001b[0;31m---------------------------------------------------------------------------\u001b[0m",
            "\u001b[0;31mModuleNotFoundError\u001b[0m                       Traceback (most recent call last)",
            "\u001b[0;32m<ipython-input-6-b7e23df70a13>\u001b[0m in \u001b[0;36m<cell line: 1>\u001b[0;34m()\u001b[0m\n\u001b[0;32m----> 1\u001b[0;31m \u001b[0;32mimport\u001b[0m \u001b[0mstreamlit\u001b[0m \u001b[0;32mas\u001b[0m \u001b[0mst\u001b[0m\u001b[0;34m\u001b[0m\u001b[0;34m\u001b[0m\u001b[0m\n\u001b[0m\u001b[1;32m      2\u001b[0m \u001b[0;32mimport\u001b[0m \u001b[0mpandas\u001b[0m \u001b[0;32mas\u001b[0m \u001b[0mpd\u001b[0m\u001b[0;34m\u001b[0m\u001b[0;34m\u001b[0m\u001b[0m\n\u001b[1;32m      3\u001b[0m \u001b[0;32mimport\u001b[0m \u001b[0mnumpy\u001b[0m \u001b[0;32mas\u001b[0m \u001b[0mnp\u001b[0m\u001b[0;34m\u001b[0m\u001b[0;34m\u001b[0m\u001b[0m\n\u001b[1;32m      4\u001b[0m \u001b[0;32mimport\u001b[0m \u001b[0mmatplotlib\u001b[0m\u001b[0;34m.\u001b[0m\u001b[0mpyplot\u001b[0m \u001b[0;32mas\u001b[0m \u001b[0mplt\u001b[0m\u001b[0;34m\u001b[0m\u001b[0;34m\u001b[0m\u001b[0m\n\u001b[1;32m      5\u001b[0m \u001b[0;32mimport\u001b[0m \u001b[0mseaborn\u001b[0m \u001b[0;32mas\u001b[0m \u001b[0msns\u001b[0m\u001b[0;34m\u001b[0m\u001b[0;34m\u001b[0m\u001b[0m\n",
            "\u001b[0;31mModuleNotFoundError\u001b[0m: No module named 'streamlit'",
            "",
            "\u001b[0;31m---------------------------------------------------------------------------\u001b[0;32m\nNOTE: If your import is failing due to a missing package, you can\nmanually install dependencies using either !pip or !apt.\n\nTo view examples of installing some common dependencies, click the\n\"Open Examples\" button below.\n\u001b[0;31m---------------------------------------------------------------------------\u001b[0m\n"
          ],
          "errorDetails": {
            "actions": [
              {
                "action": "open_url",
                "actionText": "Open Examples",
                "url": "/notebooks/snippets/importing_libraries.ipynb"
              }
            ]
          }
        }
      ],
      "source": [
        "import streamlit as st\n",
        "import pandas as pd\n",
        "import numpy as np\n",
        "import matplotlib.pyplot as plt\n",
        "import seaborn as sns\n",
        "from sklearn.model_selection import train_test_split\n",
        "from sklearn.linear_model import LinearRegression\n",
        "from sklearn.preprocessing import StandardScaler, LabelEncoder\n",
        "\n",
        "# Load your dataset\n",
        "@st.cache_data # Cache the dataframe for better performance\n",
        "def load_data():\n",
        "    df = pd.read_csv(\"C://Users//hp pc//Downloads//housing.csv\")  # Adjust path as needed\n",
        "    return df\n",
        "\n",
        "# Data loading\n",
        "df = load_data()\n",
        "\n",
        "# Data preprocessing\n",
        "df_clean = df.dropna(axis=0, how='any')  # Drop rows with any NaN values\n",
        "\n",
        "# Encode categorical variable 'ocean_proximity'\n",
        "label_encoder = LabelEncoder()\n",
        "df_clean['ocean_proximity_encoded'] = label_encoder.fit_transform(df_clean['ocean_proximity'])\n",
        "\n",
        "# Feature selection\n",
        "features = ['longitude', 'latitude', 'housing_median_age', 'total_rooms',\n",
        "            'total_bedrooms', 'population', 'households', 'median_income',\n",
        "            'ocean_proximity_encoded']\n",
        "\n",
        "# Train the model\n",
        "X = df_clean[features]\n",
        "y = df_clean['median_house_value']\n",
        "scaler = StandardScaler()\n",
        "X_scaled = scaler.fit_transform(X)\n",
        "lm = LinearRegression()\n",
        "lm.fit(X_scaled, y)\n",
        "\n",
        "# Sidebar navigation\n",
        "rad = st.sidebar.radio(\"Navigation\",[\"Home\", \"Visualization\", \"Prediction Models\", \"About Us\"])\n",
        "\n",
        "if rad == \"Home\":\n",
        "    st.title(\"Home: Dataset Overview\")\n",
        "    if st.checkbox(\"Show Dataset\"):\n",
        "        st.dataframe(df_clean)  # Display the cleaned dataset\n",
        "\n",
        "elif rad == \"Visualization\":\n",
        "    st.title(\"Data Visualization\")\n",
        "    st.write(\"Scatter plot of longitude vs latitude\")\n",
        "    fig, ax = plt.subplots()\n",
        "    sns.scatterplot(x='longitude', y='latitude', data=df_clean.sample(3000), s=32, alpha=0.8, ax=ax)\n",
        "    st.pyplot(fig)  # Display plot using st.pyplot()\n",
        "\n",
        "    st.header(\"Correlation Heatmap\")\n",
        "\n",
        "    # Filter only numeric columns for correlation matrix\n",
        "    numeric_cols = df_clean.select_dtypes(include=np.number).columns.tolist()\n",
        "    corr_matrix = df_clean[numeric_cols].corr()\n",
        "    fig, ax = plt.subplots()\n",
        "    sns.heatmap(corr_matrix, annot=True, ax=ax)\n",
        "    st.pyplot(fig)  # Display plot using st.pyplot()\n",
        "\n",
        "    st.header(\"Histograms of Selected Features\")\n",
        "    selected_features = st.multiselect(\"Select features to plot histograms\", df_clean.columns)\n",
        "    if selected_features:\n",
        "        for feature in selected_features:\n",
        "            fig, ax = plt.subplots()\n",
        "            sns.histplot(df_clean[feature], bins=50, ax=ax)\n",
        "            ax.set_title(feature)\n",
        "            st.pyplot(fig)  # Display each histogram using st.pyplot()\n",
        "\n",
        "elif rad == \"Prediction Models\":\n",
        "    st.title(\"Prediction Model: Housing Price Prediction\")\n",
        "\n",
        "    # User input for prediction\n",
        "    st.header(\"Input Features for Prediction\")\n",
        "    input_features = {}\n",
        "    for feature in features:\n",
        "        if feature == 'ocean_proximity_encoded':\n",
        "            input_features[feature] = st.selectbox(f\"Select {feature}\", df_clean['ocean_proximity'].unique())\n",
        "        else:\n",
        "            input_features[feature] = st.number_input(f\"Enter {feature}\", value=0.0)\n",
        "\n",
        "    # Prediction button\n",
        "    if st.button(\"Predict Price\"):\n",
        "        # Encode ocean_proximity for prediction\n",
        "        input_features['ocean_proximity_encoded'] = label_encoder.transform([input_features['ocean_proximity_encoded']])[0]\n",
        "\n",
        "        # Prepare input array for prediction\n",
        "        input_array = np.array([input_features[feature] for feature in features]).reshape(1, -1)\n",
        "\n",
        "        # Scale input features\n",
        "        input_array_scaled = scaler.transform(input_array)\n",
        "\n",
        "        # Predict housing price\n",
        "        predicted_price = lm.predict(input_array_scaled)\n",
        "\n",
        "        st.subheader(\"Predicted Housing Price\")\n",
        "        st.write(f\"The predicted housing price is: ${predicted_price[0]:,.2f}\")\n",
        "\n",
        "elif rad == \"About Us\":\n",
        "    st.title(\"About Us\")\n",
        "    st.header(\"Project Information\")\n",
        "    st.markdown(\"This Streamlit app demonstrates a simple integration of data loading, preprocessing, model training, and visualization for housing price prediction using linear regression.\")\n",
        "    st.header(\"Developed by\")\n",
        "    st.markdown(\"Sarthak tomar\")\n",
        "    st.markdown(\"[GitHub](https://github.com/sarthaktomar07/machine-learning)\")\n",
        "\n",
        "# Add any other sections or interactive elements you need"
      ]
    }
  ]
}